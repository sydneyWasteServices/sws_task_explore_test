{
 "cells": [
  {
   "cell_type": "code",
   "execution_count": 1,
   "id": "acbf6051",
   "metadata": {},
   "outputs": [],
   "source": [
    "import pandas as pd\n",
    "import numpy as np"
   ]
  },
  {
   "cell_type": "code",
   "execution_count": 25,
   "id": "22c8a5ec",
   "metadata": {},
   "outputs": [
    {
     "name": "stdout",
     "output_type": "stream",
     "text": [
      "<class 'pandas.core.frame.DataFrame'>\n",
      "RangeIndex: 252 entries, 0 to 251\n",
      "Data columns (total 9 columns):\n",
      " #   Column      Non-Null Count  Dtype  \n",
      "---  ------      --------------  -----  \n",
      " 0   #           252 non-null    object \n",
      " 1   Employee    252 non-null    object \n",
      " 2   Location    252 non-null    object \n",
      " 3   Department  252 non-null    object \n",
      " 4   Time In     252 non-null    object \n",
      " 5   Time Out    176 non-null    object \n",
      " 6   Duration    176 non-null    object \n",
      " 7   Rate        206 non-null    object \n",
      " 8   Total       176 non-null    float64\n",
      "dtypes: float64(1), object(8)\n",
      "memory usage: 17.8+ KB\n"
     ]
    }
   ],
   "source": [
    "PATH_A = '/home/gordon_local/local_workplace/swsTask/driver_timesheet_rec/Boomgate.xlsx'\n",
    "df = pd.read_excel(PATH_A, sheet_name=None, header=1)\n",
    "sName = list(df.keys())\n",
    "clean_df = df[sName[0]]\n",
    "clean_df[clean_df.Department.str.startswith('Operations')]\n",
    "\n",
    "clean_df['Employee'] = clean_df.Employee.str.lower()\n",
    "\n",
    "clean_df[clean_df.Employee.str.contains('je')]\n",
    "clean_df.info()"
   ]
  },
  {
   "cell_type": "code",
   "execution_count": null,
   "id": "74400aba",
   "metadata": {},
   "outputs": [],
   "source": []
  },
  {
   "cell_type": "code",
   "execution_count": null,
   "id": "e8ea7327",
   "metadata": {},
   "outputs": [],
   "source": []
  },
  {
   "cell_type": "code",
   "execution_count": null,
   "id": "f9bb13e9",
   "metadata": {},
   "outputs": [],
   "source": []
  },
  {
   "cell_type": "code",
   "execution_count": null,
   "id": "686e1fa2",
   "metadata": {},
   "outputs": [],
   "source": []
  }
 ],
 "metadata": {
  "kernelspec": {
   "display_name": "Python 3",
   "language": "python",
   "name": "python3"
  },
  "language_info": {
   "codemirror_mode": {
    "name": "ipython",
    "version": 3
   },
   "file_extension": ".py",
   "mimetype": "text/x-python",
   "name": "python",
   "nbconvert_exporter": "python",
   "pygments_lexer": "ipython3",
   "version": "3.7.3"
  }
 },
 "nbformat": 4,
 "nbformat_minor": 5
}
