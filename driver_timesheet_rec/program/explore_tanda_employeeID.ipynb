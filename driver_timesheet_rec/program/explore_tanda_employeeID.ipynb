{
 "cells": [
  {
   "cell_type": "code",
   "execution_count": 1,
   "id": "130048f6",
   "metadata": {},
   "outputs": [],
   "source": [
    "import pandas as pd\n",
    "import numpy as np"
   ]
  },
  {
   "cell_type": "code",
   "execution_count": 19,
   "id": "5b5c687f",
   "metadata": {},
   "outputs": [
    {
     "data": {
      "text/html": [
       "<div>\n",
       "<style scoped>\n",
       "    .dataframe tbody tr th:only-of-type {\n",
       "        vertical-align: middle;\n",
       "    }\n",
       "\n",
       "    .dataframe tbody tr th {\n",
       "        vertical-align: top;\n",
       "    }\n",
       "\n",
       "    .dataframe thead th {\n",
       "        text-align: right;\n",
       "    }\n",
       "</style>\n",
       "<table border=\"1\" class=\"dataframe\">\n",
       "  <thead>\n",
       "    <tr style=\"text-align: right;\">\n",
       "      <th></th>\n",
       "      <th>Name</th>\n",
       "      <th>Card ID</th>\n",
       "    </tr>\n",
       "  </thead>\n",
       "  <tbody>\n",
       "    <tr>\n",
       "      <th>54</th>\n",
       "      <td>Te Ture, Tom</td>\n",
       "      <td>IR20</td>\n",
       "    </tr>\n",
       "    <tr>\n",
       "      <th>55</th>\n",
       "      <td>Ter Neuzen, Jeremy Daniel</td>\n",
       "      <td>SWTERJER</td>\n",
       "    </tr>\n",
       "  </tbody>\n",
       "</table>\n",
       "</div>"
      ],
      "text/plain": [
       "                         Name   Card ID\n",
       "54               Te Ture, Tom      IR20\n",
       "55  Ter Neuzen, Jeremy Daniel  SWTERJER"
      ]
     },
     "execution_count": 19,
     "metadata": {},
     "output_type": "execute_result"
    }
   ],
   "source": [
    "PATH_A = '/home/gordon_local/local_workplace/swsTask/driver_timesheet_rec/Boomgate.xlsx'\n",
    "PATH_B = '/home/gordon_local/local_workplace/swsTask/driver_timesheet_rec/EmployeeID.xlsx'\n",
    "PATH_C = '/home/gordon_local/local_workplace/swsTask/driver_timesheet_rec/Tanda.xlsx'\n",
    "\n",
    "df = pd.read_excel(PATH_C, sheet_name=None)\n",
    "df_keys = list(df.keys())\n",
    "df[df_keys[-1]]\n",
    "\n",
    "df_1 = pd.read_excel(PATH_B, sheet_name=None)\n",
    "df_1_keys = list(df_1.keys())\n",
    "clean_df_1 = df_1[df_1_keys[0]]\n",
    "# a['Names'].str.contains('Mel').any():\n",
    "clean_df_1[clean_df_1.Name.str.contains('Te')]\n"
   ]
  },
  {
   "cell_type": "code",
   "execution_count": null,
   "id": "62cb4634",
   "metadata": {},
   "outputs": [],
   "source": []
  },
  {
   "cell_type": "code",
   "execution_count": null,
   "id": "06151564",
   "metadata": {},
   "outputs": [],
   "source": []
  },
  {
   "cell_type": "code",
   "execution_count": null,
   "id": "9230b82c",
   "metadata": {},
   "outputs": [],
   "source": []
  },
  {
   "cell_type": "code",
   "execution_count": null,
   "id": "10fa965b",
   "metadata": {},
   "outputs": [],
   "source": []
  },
  {
   "cell_type": "code",
   "execution_count": null,
   "id": "f507800e",
   "metadata": {},
   "outputs": [],
   "source": []
  },
  {
   "cell_type": "code",
   "execution_count": null,
   "id": "6f4b3af2",
   "metadata": {},
   "outputs": [],
   "source": []
  }
 ],
 "metadata": {
  "kernelspec": {
   "display_name": "Python 3",
   "language": "python",
   "name": "python3"
  },
  "language_info": {
   "codemirror_mode": {
    "name": "ipython",
    "version": 3
   },
   "file_extension": ".py",
   "mimetype": "text/x-python",
   "name": "python",
   "nbconvert_exporter": "python",
   "pygments_lexer": "ipython3",
   "version": "3.7.3"
  }
 },
 "nbformat": 4,
 "nbformat_minor": 5
}
